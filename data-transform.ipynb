{
 "cells": [
  {
   "cell_type": "code",
   "execution_count": 2,
   "id": "a9e091ac-6010-4d48-82be-b62b97961f2e",
   "metadata": {
    "tags": []
   },
   "outputs": [
    {
     "data": {
      "text/html": [
       "<div>\n",
       "<style scoped>\n",
       "    .dataframe tbody tr th:only-of-type {\n",
       "        vertical-align: middle;\n",
       "    }\n",
       "\n",
       "    .dataframe tbody tr th {\n",
       "        vertical-align: top;\n",
       "    }\n",
       "\n",
       "    .dataframe thead th {\n",
       "        text-align: right;\n",
       "    }\n",
       "</style>\n",
       "<table border=\"1\" class=\"dataframe\">\n",
       "  <thead>\n",
       "    <tr style=\"text-align: right;\">\n",
       "      <th></th>\n",
       "      <th>title</th>\n",
       "      <th>text</th>\n",
       "      <th>url</th>\n",
       "      <th>authors</th>\n",
       "      <th>timestamp</th>\n",
       "      <th>tags</th>\n",
       "    </tr>\n",
       "  </thead>\n",
       "  <tbody>\n",
       "    <tr>\n",
       "      <th>0</th>\n",
       "      <td>Mental Note Vol. 24</td>\n",
       "      <td>Photo by Josh Riemer on Unsplash\\n\\nMerry Chri...</td>\n",
       "      <td>https://medium.com/invisible-illness/mental-no...</td>\n",
       "      <td>['Ryan Fan']</td>\n",
       "      <td>2020-12-26 03:38:10.479000+00:00</td>\n",
       "      <td>['Mental Health', 'Health', 'Psychology', 'Sci...</td>\n",
       "    </tr>\n",
       "    <tr>\n",
       "      <th>1</th>\n",
       "      <td>Your Brain On Coronavirus</td>\n",
       "      <td>Your Brain On Coronavirus\\n\\nA guide to the cu...</td>\n",
       "      <td>https://medium.com/age-of-awareness/how-the-pa...</td>\n",
       "      <td>['Simon Spichak']</td>\n",
       "      <td>2020-09-23 22:10:17.126000+00:00</td>\n",
       "      <td>['Mental Health', 'Coronavirus', 'Science', 'P...</td>\n",
       "    </tr>\n",
       "    <tr>\n",
       "      <th>2</th>\n",
       "      <td>Mind Your Nose</td>\n",
       "      <td>Mind Your Nose\\n\\nHow smell training can chang...</td>\n",
       "      <td>https://medium.com/neodotlife/mind-your-nose-f...</td>\n",
       "      <td>[]</td>\n",
       "      <td>2020-10-10 20:17:37.132000+00:00</td>\n",
       "      <td>['Biotechnology', 'Neuroscience', 'Brain', 'We...</td>\n",
       "    </tr>\n",
       "    <tr>\n",
       "      <th>3</th>\n",
       "      <td>The 4 Purposes of Dreams</td>\n",
       "      <td>Passionate about the synergy between science a...</td>\n",
       "      <td>https://medium.com/science-for-real/the-4-purp...</td>\n",
       "      <td>['Eshan Samaranayake']</td>\n",
       "      <td>2020-12-21 16:05:19.524000+00:00</td>\n",
       "      <td>['Health', 'Neuroscience', 'Mental Health', 'P...</td>\n",
       "    </tr>\n",
       "    <tr>\n",
       "      <th>4</th>\n",
       "      <td>Surviving a Rod Through the Head</td>\n",
       "      <td>You’ve heard of him, haven’t you? Phineas Gage...</td>\n",
       "      <td>https://medium.com/live-your-life-on-purpose/s...</td>\n",
       "      <td>['Rishav Sinha']</td>\n",
       "      <td>2020-02-26 00:01:01.576000+00:00</td>\n",
       "      <td>['Brain', 'Health', 'Development', 'Psychology...</td>\n",
       "    </tr>\n",
       "  </tbody>\n",
       "</table>\n",
       "</div>"
      ],
      "text/plain": [
       "                              title  \\\n",
       "0               Mental Note Vol. 24   \n",
       "1         Your Brain On Coronavirus   \n",
       "2                    Mind Your Nose   \n",
       "3          The 4 Purposes of Dreams   \n",
       "4  Surviving a Rod Through the Head   \n",
       "\n",
       "                                                text  \\\n",
       "0  Photo by Josh Riemer on Unsplash\\n\\nMerry Chri...   \n",
       "1  Your Brain On Coronavirus\\n\\nA guide to the cu...   \n",
       "2  Mind Your Nose\\n\\nHow smell training can chang...   \n",
       "3  Passionate about the synergy between science a...   \n",
       "4  You’ve heard of him, haven’t you? Phineas Gage...   \n",
       "\n",
       "                                                 url                 authors  \\\n",
       "0  https://medium.com/invisible-illness/mental-no...            ['Ryan Fan']   \n",
       "1  https://medium.com/age-of-awareness/how-the-pa...       ['Simon Spichak']   \n",
       "2  https://medium.com/neodotlife/mind-your-nose-f...                      []   \n",
       "3  https://medium.com/science-for-real/the-4-purp...  ['Eshan Samaranayake']   \n",
       "4  https://medium.com/live-your-life-on-purpose/s...        ['Rishav Sinha']   \n",
       "\n",
       "                          timestamp  \\\n",
       "0  2020-12-26 03:38:10.479000+00:00   \n",
       "1  2020-09-23 22:10:17.126000+00:00   \n",
       "2  2020-10-10 20:17:37.132000+00:00   \n",
       "3  2020-12-21 16:05:19.524000+00:00   \n",
       "4  2020-02-26 00:01:01.576000+00:00   \n",
       "\n",
       "                                                tags  \n",
       "0  ['Mental Health', 'Health', 'Psychology', 'Sci...  \n",
       "1  ['Mental Health', 'Coronavirus', 'Science', 'P...  \n",
       "2  ['Biotechnology', 'Neuroscience', 'Brain', 'We...  \n",
       "3  ['Health', 'Neuroscience', 'Mental Health', 'P...  \n",
       "4  ['Brain', 'Health', 'Development', 'Psychology...  "
      ]
     },
     "execution_count": 2,
     "metadata": {},
     "output_type": "execute_result"
    }
   ],
   "source": [
    "import pandas as pd\n",
    "\n",
    "df = pd.read_csv(\"./data/medium_articles.csv\")\n",
    "df.head()"
   ]
  },
  {
   "cell_type": "code",
   "execution_count": 3,
   "id": "9ee8cb02-2180-461c-9471-f42b5b8b3c6f",
   "metadata": {},
   "outputs": [
    {
     "data": {
      "text/plain": [
       "(192368, 6)"
      ]
     },
     "execution_count": 3,
     "metadata": {},
     "output_type": "execute_result"
    }
   ],
   "source": [
    "df.shape"
   ]
  },
  {
   "cell_type": "markdown",
   "id": "5e273b4a-44c7-4ee5-9354-5faf3dc519f4",
   "metadata": {},
   "source": [
    "The CSV file contains more than `190k` rows!"
   ]
  },
  {
   "cell_type": "markdown",
   "id": "e4d01e49-b8af-4797-bb63-3a3e1964ff36",
   "metadata": {},
   "source": [
    "First let's drop unnecessary columns, here the columns `title` `url`, `authors` and `timestamp` are not required for the NLP applicatin to identify the tags of the article."
   ]
  },
  {
   "cell_type": "code",
   "execution_count": 63,
   "id": "b121456b-1a7b-44bb-bafd-ac617c8008cf",
   "metadata": {},
   "outputs": [
    {
     "data": {
      "text/html": [
       "<div>\n",
       "<style scoped>\n",
       "    .dataframe tbody tr th:only-of-type {\n",
       "        vertical-align: middle;\n",
       "    }\n",
       "\n",
       "    .dataframe tbody tr th {\n",
       "        vertical-align: top;\n",
       "    }\n",
       "\n",
       "    .dataframe thead th {\n",
       "        text-align: right;\n",
       "    }\n",
       "</style>\n",
       "<table border=\"1\" class=\"dataframe\">\n",
       "  <thead>\n",
       "    <tr style=\"text-align: right;\">\n",
       "      <th></th>\n",
       "      <th>text</th>\n",
       "      <th>tags</th>\n",
       "    </tr>\n",
       "  </thead>\n",
       "  <tbody>\n",
       "    <tr>\n",
       "      <th>0</th>\n",
       "      <td>Photo by Josh Riemer on Unsplash\\n\\nMerry Chri...</td>\n",
       "      <td>['Mental Health', 'Health', 'Psychology', 'Sci...</td>\n",
       "    </tr>\n",
       "    <tr>\n",
       "      <th>1</th>\n",
       "      <td>Your Brain On Coronavirus\\n\\nA guide to the cu...</td>\n",
       "      <td>['Mental Health', 'Coronavirus', 'Science', 'P...</td>\n",
       "    </tr>\n",
       "    <tr>\n",
       "      <th>2</th>\n",
       "      <td>Mind Your Nose\\n\\nHow smell training can chang...</td>\n",
       "      <td>['Biotechnology', 'Neuroscience', 'Brain', 'We...</td>\n",
       "    </tr>\n",
       "    <tr>\n",
       "      <th>3</th>\n",
       "      <td>Passionate about the synergy between science a...</td>\n",
       "      <td>['Health', 'Neuroscience', 'Mental Health', 'P...</td>\n",
       "    </tr>\n",
       "    <tr>\n",
       "      <th>4</th>\n",
       "      <td>You’ve heard of him, haven’t you? Phineas Gage...</td>\n",
       "      <td>['Brain', 'Health', 'Development', 'Psychology...</td>\n",
       "    </tr>\n",
       "  </tbody>\n",
       "</table>\n",
       "</div>"
      ],
      "text/plain": [
       "                                                text  \\\n",
       "0  Photo by Josh Riemer on Unsplash\\n\\nMerry Chri...   \n",
       "1  Your Brain On Coronavirus\\n\\nA guide to the cu...   \n",
       "2  Mind Your Nose\\n\\nHow smell training can chang...   \n",
       "3  Passionate about the synergy between science a...   \n",
       "4  You’ve heard of him, haven’t you? Phineas Gage...   \n",
       "\n",
       "                                                tags  \n",
       "0  ['Mental Health', 'Health', 'Psychology', 'Sci...  \n",
       "1  ['Mental Health', 'Coronavirus', 'Science', 'P...  \n",
       "2  ['Biotechnology', 'Neuroscience', 'Brain', 'We...  \n",
       "3  ['Health', 'Neuroscience', 'Mental Health', 'P...  \n",
       "4  ['Brain', 'Health', 'Development', 'Psychology...  "
      ]
     },
     "execution_count": 63,
     "metadata": {},
     "output_type": "execute_result"
    }
   ],
   "source": [
    "usefull_cols = [\"text\", \"tags\"]\n",
    "df = df[usefull_cols]\n",
    "\n",
    "df.head()"
   ]
  },
  {
   "cell_type": "markdown",
   "id": "c4e5b695-5897-42c2-95e7-0b67ec88c5c4",
   "metadata": {},
   "source": [
    "Before further cleaning the data, let's inspect entire set of tags. But the `tags` column requires further processing as they are stored as string insted of a list of string."
   ]
  },
  {
   "cell_type": "code",
   "execution_count": 24,
   "id": "9db1956f-e2f3-4156-87cc-432c8eb0e0b2",
   "metadata": {},
   "outputs": [
    {
     "data": {
      "text/plain": [
       "\"['Mental Health', 'Health', 'Psychology', 'Science', 'Neuroscience']\""
      ]
     },
     "execution_count": 24,
     "metadata": {},
     "output_type": "execute_result"
    }
   ],
   "source": [
    "sample_tag = df.loc[0, \"tags\"]\n",
    "sample_tag"
   ]
  },
  {
   "cell_type": "code",
   "execution_count": 25,
   "id": "85df200e-d890-4fa1-99ec-60797046a5b7",
   "metadata": {},
   "outputs": [],
   "source": [
    "def processTags(tags):\n",
    "    processed_tags = tags[2:-2].replace(\"'\", \"\").split(\",\")\n",
    "    processed_tags = list(map(str.strip, processed_tags))\n",
    "    \n",
    "    return processed_tags"
   ]
  },
  {
   "cell_type": "code",
   "execution_count": 26,
   "id": "f5cbcbc8-bf50-4616-835c-91fd2003450d",
   "metadata": {},
   "outputs": [
    {
     "data": {
      "text/plain": [
       "['Mental Health', 'Health', 'Psychology', 'Science', 'Neuroscience']"
      ]
     },
     "execution_count": 26,
     "metadata": {},
     "output_type": "execute_result"
    }
   ],
   "source": [
    "processTags(sample_tag)"
   ]
  },
  {
   "cell_type": "code",
   "execution_count": 35,
   "id": "89072942-2f60-4d62-868e-e87f197819c2",
   "metadata": {},
   "outputs": [],
   "source": [
    "tag_set = set()\n",
    "\n",
    "for row in df.iterrows():\n",
    "    row_tags = processTags(row[1][\"tags\"])\n",
    "    tag_set.update(row_tags)"
   ]
  },
  {
   "cell_type": "code",
   "execution_count": 36,
   "id": "91b08e27-6378-4d33-b5b3-6f95bdb05937",
   "metadata": {},
   "outputs": [
    {
     "data": {
      "text/plain": [
       "78636"
      ]
     },
     "execution_count": 36,
     "metadata": {},
     "output_type": "execute_result"
    }
   ],
   "source": [
    "len(tag_set)"
   ]
  },
  {
   "cell_type": "markdown",
   "id": "26d636e1-d6e0-4f81-aba5-cd5cdd14a02c",
   "metadata": {},
   "source": [
    "The dataset contains `78636` tags, which are a lot for so we need to select most occuring ones"
   ]
  },
  {
   "cell_type": "code",
   "execution_count": 38,
   "id": "f3caf3ab-339d-4f80-a358-606740d45f08",
   "metadata": {},
   "outputs": [],
   "source": [
    "tag_counts = {}\n",
    "\n",
    "for row in df.iterrows():\n",
    "    row_tags = processTags(row[1][\"tags\"])\n",
    "    for tag in row_tags:\n",
    "        tag_counts[tag] = tag_counts.get(tag, 0) + 1"
   ]
  },
  {
   "cell_type": "code",
   "execution_count": 61,
   "id": "21aed2a8-e531-46e9-a49c-0103421ad262",
   "metadata": {},
   "outputs": [
    {
     "data": {
      "text/plain": [
       "{'Writing': 5115,\n",
       " 'Machine Learning': 6055,\n",
       " 'Life': 5954,\n",
       " 'Technology': 6384,\n",
       " 'Data Science': 7410,\n",
       " 'Programming': 6364,\n",
       " 'Poetry': 6336,\n",
       " 'Blockchain': 7534,\n",
       " 'Cryptocurrency': 6245,\n",
       " 'Bitcoin': 5800}"
      ]
     },
     "execution_count": 61,
     "metadata": {},
     "output_type": "execute_result"
    }
   ],
   "source": [
    "threshold = sorted(tag_counts.values(), reverse=True)[9]\n",
    "\n",
    "top_10_tags = {key: value for key, value in tag_counts.items() if value >= threshold}\n",
    "top_10_tags"
   ]
  },
  {
   "cell_type": "code",
   "execution_count": 82,
   "id": "a2b83903-0a31-45d9-8127-a389a9666d1b",
   "metadata": {},
   "outputs": [],
   "source": [
    "def updateTags(tags):\n",
    "    new_tags = []\n",
    "\n",
    "    for top_tag in top_10_tags.keys():\n",
    "        if top_tag in tags:\n",
    "            new_tags.append(top_tag)\n",
    "            \n",
    "    if len(new_tags) == 0:\n",
    "        return \"\"\n",
    "    else:\n",
    "        return new_tags"
   ]
  },
  {
   "cell_type": "code",
   "execution_count": 83,
   "id": "3cf9d054-c881-41e2-a1af-3db5ddf6716b",
   "metadata": {},
   "outputs": [
    {
     "data": {
      "text/html": [
       "<div>\n",
       "<style scoped>\n",
       "    .dataframe tbody tr th:only-of-type {\n",
       "        vertical-align: middle;\n",
       "    }\n",
       "\n",
       "    .dataframe tbody tr th {\n",
       "        vertical-align: top;\n",
       "    }\n",
       "\n",
       "    .dataframe thead th {\n",
       "        text-align: right;\n",
       "    }\n",
       "</style>\n",
       "<table border=\"1\" class=\"dataframe\">\n",
       "  <thead>\n",
       "    <tr style=\"text-align: right;\">\n",
       "      <th></th>\n",
       "      <th>text</th>\n",
       "      <th>tags</th>\n",
       "      <th>updated_tags</th>\n",
       "    </tr>\n",
       "  </thead>\n",
       "  <tbody>\n",
       "    <tr>\n",
       "      <th>0</th>\n",
       "      <td>Photo by Josh Riemer on Unsplash\\n\\nMerry Chri...</td>\n",
       "      <td>['Mental Health', 'Health', 'Psychology', 'Sci...</td>\n",
       "      <td></td>\n",
       "    </tr>\n",
       "    <tr>\n",
       "      <th>1</th>\n",
       "      <td>Your Brain On Coronavirus\\n\\nA guide to the cu...</td>\n",
       "      <td>['Mental Health', 'Coronavirus', 'Science', 'P...</td>\n",
       "      <td></td>\n",
       "    </tr>\n",
       "    <tr>\n",
       "      <th>2</th>\n",
       "      <td>Mind Your Nose\\n\\nHow smell training can chang...</td>\n",
       "      <td>['Biotechnology', 'Neuroscience', 'Brain', 'We...</td>\n",
       "      <td></td>\n",
       "    </tr>\n",
       "    <tr>\n",
       "      <th>3</th>\n",
       "      <td>Passionate about the synergy between science a...</td>\n",
       "      <td>['Health', 'Neuroscience', 'Mental Health', 'P...</td>\n",
       "      <td></td>\n",
       "    </tr>\n",
       "    <tr>\n",
       "      <th>4</th>\n",
       "      <td>You’ve heard of him, haven’t you? Phineas Gage...</td>\n",
       "      <td>['Brain', 'Health', 'Development', 'Psychology...</td>\n",
       "      <td></td>\n",
       "    </tr>\n",
       "  </tbody>\n",
       "</table>\n",
       "</div>"
      ],
      "text/plain": [
       "                                                text  \\\n",
       "0  Photo by Josh Riemer on Unsplash\\n\\nMerry Chri...   \n",
       "1  Your Brain On Coronavirus\\n\\nA guide to the cu...   \n",
       "2  Mind Your Nose\\n\\nHow smell training can chang...   \n",
       "3  Passionate about the synergy between science a...   \n",
       "4  You’ve heard of him, haven’t you? Phineas Gage...   \n",
       "\n",
       "                                                tags updated_tags  \n",
       "0  ['Mental Health', 'Health', 'Psychology', 'Sci...               \n",
       "1  ['Mental Health', 'Coronavirus', 'Science', 'P...               \n",
       "2  ['Biotechnology', 'Neuroscience', 'Brain', 'We...               \n",
       "3  ['Health', 'Neuroscience', 'Mental Health', 'P...               \n",
       "4  ['Brain', 'Health', 'Development', 'Psychology...               "
      ]
     },
     "execution_count": 83,
     "metadata": {},
     "output_type": "execute_result"
    }
   ],
   "source": [
    "df[\"updated_tags\"] = df[\"tags\"].apply(updateTags)\n",
    "\n",
    "df.head()"
   ]
  },
  {
   "cell_type": "markdown",
   "id": "03081589-3391-40e9-80b5-b725d2902f6a",
   "metadata": {},
   "source": [
    "Now we have remove the rows that don't atleast one tag. Rows with updated tag value of `\"\"` (empty string) have no tags. So they can be removed"
   ]
  },
  {
   "cell_type": "code",
   "execution_count": 89,
   "id": "63bdba13-fec5-4b3b-993f-4eae276b860d",
   "metadata": {},
   "outputs": [
    {
     "data": {
      "text/html": [
       "<div>\n",
       "<style scoped>\n",
       "    .dataframe tbody tr th:only-of-type {\n",
       "        vertical-align: middle;\n",
       "    }\n",
       "\n",
       "    .dataframe tbody tr th {\n",
       "        vertical-align: top;\n",
       "    }\n",
       "\n",
       "    .dataframe thead th {\n",
       "        text-align: right;\n",
       "    }\n",
       "</style>\n",
       "<table border=\"1\" class=\"dataframe\">\n",
       "  <thead>\n",
       "    <tr style=\"text-align: right;\">\n",
       "      <th></th>\n",
       "      <th>text</th>\n",
       "      <th>tags</th>\n",
       "      <th>updated_tags</th>\n",
       "    </tr>\n",
       "  </thead>\n",
       "  <tbody>\n",
       "    <tr>\n",
       "      <th>0</th>\n",
       "      <td>How to Turn Your Popular Blog Series Into a Be...</td>\n",
       "      <td>['Books', 'Entrepreneurship', 'Writing', 'Mark...</td>\n",
       "      <td>[Writing]</td>\n",
       "    </tr>\n",
       "    <tr>\n",
       "      <th>1</th>\n",
       "      <td>Occam’s dice\\n\\nDistrusting biological metapho...</td>\n",
       "      <td>['Machine Learning', 'Science', 'Neuroscience'...</td>\n",
       "      <td>[Machine Learning]</td>\n",
       "    </tr>\n",
       "    <tr>\n",
       "      <th>2</th>\n",
       "      <td>A few months ago, I wrote an article sharing s...</td>\n",
       "      <td>['Productivity', 'Writing', 'Fiction', 'Books'...</td>\n",
       "      <td>[Writing]</td>\n",
       "    </tr>\n",
       "    <tr>\n",
       "      <th>3</th>\n",
       "      <td>As an architect and the author of a book about...</td>\n",
       "      <td>['Writing', 'Psychology', 'Interior Design', '...</td>\n",
       "      <td>[Writing]</td>\n",
       "    </tr>\n",
       "    <tr>\n",
       "      <th>4</th>\n",
       "      <td>“Your subconscious mind works continuously, wh...</td>\n",
       "      <td>['Productivity', 'Creativity', 'Motivation', '...</td>\n",
       "      <td>[Life]</td>\n",
       "    </tr>\n",
       "  </tbody>\n",
       "</table>\n",
       "</div>"
      ],
      "text/plain": [
       "                                                text  \\\n",
       "0  How to Turn Your Popular Blog Series Into a Be...   \n",
       "1  Occam’s dice\\n\\nDistrusting biological metapho...   \n",
       "2  A few months ago, I wrote an article sharing s...   \n",
       "3  As an architect and the author of a book about...   \n",
       "4  “Your subconscious mind works continuously, wh...   \n",
       "\n",
       "                                                tags        updated_tags  \n",
       "0  ['Books', 'Entrepreneurship', 'Writing', 'Mark...           [Writing]  \n",
       "1  ['Machine Learning', 'Science', 'Neuroscience'...  [Machine Learning]  \n",
       "2  ['Productivity', 'Writing', 'Fiction', 'Books'...           [Writing]  \n",
       "3  ['Writing', 'Psychology', 'Interior Design', '...           [Writing]  \n",
       "4  ['Productivity', 'Creativity', 'Motivation', '...              [Life]  "
      ]
     },
     "execution_count": 89,
     "metadata": {},
     "output_type": "execute_result"
    }
   ],
   "source": [
    "bool_map = df[\"updated_tags\"] != \"\"\n",
    "df = df[bool_map]\n",
    "\n",
    "df.reset_index(drop=True, inplace=True)\n",
    "df.head()"
   ]
  },
  {
   "cell_type": "code",
   "execution_count": 91,
   "id": "b1a9b2e6-ba10-4e38-8956-3f953135ff17",
   "metadata": {},
   "outputs": [
    {
     "data": {
      "text/plain": [
       "(58084, 3)"
      ]
     },
     "execution_count": 91,
     "metadata": {},
     "output_type": "execute_result"
    }
   ],
   "source": [
    "df.shape"
   ]
  },
  {
   "cell_type": "markdown",
   "id": "340e8a29-8c24-4897-af4d-e450bea5358e",
   "metadata": {},
   "source": [
    "The dataset still contains more than `58k` rows, we can sample `5k` rows from it"
   ]
  },
  {
   "cell_type": "code",
   "execution_count": 95,
   "id": "e0635936-163c-40bb-a147-02cfe6a73d5d",
   "metadata": {},
   "outputs": [
    {
     "data": {
      "text/html": [
       "<div>\n",
       "<style scoped>\n",
       "    .dataframe tbody tr th:only-of-type {\n",
       "        vertical-align: middle;\n",
       "    }\n",
       "\n",
       "    .dataframe tbody tr th {\n",
       "        vertical-align: top;\n",
       "    }\n",
       "\n",
       "    .dataframe thead th {\n",
       "        text-align: right;\n",
       "    }\n",
       "</style>\n",
       "<table border=\"1\" class=\"dataframe\">\n",
       "  <thead>\n",
       "    <tr style=\"text-align: right;\">\n",
       "      <th></th>\n",
       "      <th>text</th>\n",
       "      <th>tags</th>\n",
       "      <th>updated_tags</th>\n",
       "    </tr>\n",
       "  </thead>\n",
       "  <tbody>\n",
       "    <tr>\n",
       "      <th>0</th>\n",
       "      <td>What is Analytics? Part II: A Longer Definitio...</td>\n",
       "      <td>['Big Data', 'Data Science', 'Analytics']</td>\n",
       "      <td>[Data Science]</td>\n",
       "    </tr>\n",
       "    <tr>\n",
       "      <th>1</th>\n",
       "      <td>Erica Stanford wrote the book Crypto Wars. She...</td>\n",
       "      <td>['Ethereum', 'Bitcoin', 'Cryptocurrency', 'Sca...</td>\n",
       "      <td>[Cryptocurrency, Bitcoin]</td>\n",
       "    </tr>\n",
       "    <tr>\n",
       "      <th>2</th>\n",
       "      <td>I felt the small walls inside my head crumble\\...</td>\n",
       "      <td>['Depression', 'Mental Health', 'Poetry', 'Sui...</td>\n",
       "      <td>[Poetry]</td>\n",
       "    </tr>\n",
       "    <tr>\n",
       "      <th>3</th>\n",
       "      <td>New Website is Live!\\n\\nDear Yokai lovers,\\n\\n...</td>\n",
       "      <td>['Art', 'Token', 'Cryptocurrency', 'Binance Sm...</td>\n",
       "      <td>[Cryptocurrency]</td>\n",
       "    </tr>\n",
       "    <tr>\n",
       "      <th>4</th>\n",
       "      <td>React vs. Svelte: The War Between Virtual and ...</td>\n",
       "      <td>['Trump', 'Babies', 'Mental Health', 'Life', '...</td>\n",
       "      <td>[Life]</td>\n",
       "    </tr>\n",
       "  </tbody>\n",
       "</table>\n",
       "</div>"
      ],
      "text/plain": [
       "                                                text  \\\n",
       "0  What is Analytics? Part II: A Longer Definitio...   \n",
       "1  Erica Stanford wrote the book Crypto Wars. She...   \n",
       "2  I felt the small walls inside my head crumble\\...   \n",
       "3  New Website is Live!\\n\\nDear Yokai lovers,\\n\\n...   \n",
       "4  React vs. Svelte: The War Between Virtual and ...   \n",
       "\n",
       "                                                tags  \\\n",
       "0          ['Big Data', 'Data Science', 'Analytics']   \n",
       "1  ['Ethereum', 'Bitcoin', 'Cryptocurrency', 'Sca...   \n",
       "2  ['Depression', 'Mental Health', 'Poetry', 'Sui...   \n",
       "3  ['Art', 'Token', 'Cryptocurrency', 'Binance Sm...   \n",
       "4  ['Trump', 'Babies', 'Mental Health', 'Life', '...   \n",
       "\n",
       "                updated_tags  \n",
       "0             [Data Science]  \n",
       "1  [Cryptocurrency, Bitcoin]  \n",
       "2                   [Poetry]  \n",
       "3           [Cryptocurrency]  \n",
       "4                     [Life]  "
      ]
     },
     "execution_count": 95,
     "metadata": {},
     "output_type": "execute_result"
    }
   ],
   "source": [
    "sample_df = df.sample(n=5000, ignore_index=True)\n",
    "sample_df.head()"
   ]
  },
  {
   "cell_type": "markdown",
   "id": "c47f2a1a-e232-4e18-9da5-c39ae1895dbe",
   "metadata": {},
   "source": [
    "Now we have to process the `text` column"
   ]
  },
  {
   "cell_type": "code",
   "execution_count": 106,
   "id": "c29d812d-fe1d-408b-a116-923981027a31",
   "metadata": {
    "scrolled": true
   },
   "outputs": [],
   "source": [
    "from string import ascii_letters\n",
    "\n",
    "dataset_char_set = set()\n",
    "\n",
    "for row in sample_df.iterrows():\n",
    "    row_text = row[1][\"text\"]\n",
    "    dataset_char_set.update(row_text)\n",
    "\n",
    "dataset_char_set = dataset_char_set - set(ascii_letters)\n",
    "dataset_char_set = dataset_char_set - set([i for i in range(10)])"
   ]
  },
  {
   "cell_type": "code",
   "execution_count": 108,
   "id": "49555e03-0253-4b15-96e4-ff72b2042cbe",
   "metadata": {},
   "outputs": [
    {
     "data": {
      "text/plain": [
       "1861"
      ]
     },
     "execution_count": 108,
     "metadata": {},
     "output_type": "execute_result"
    }
   ],
   "source": [
    "len(dataset_char_set)"
   ]
  },
  {
   "cell_type": "code",
   "execution_count": 116,
   "id": "0e8df08c-034f-4992-9a9e-214c2a717d5a",
   "metadata": {},
   "outputs": [
    {
     "data": {
      "text/plain": [
       "['沿', 'ะ', '況', '🏽', '»']"
      ]
     },
     "execution_count": 116,
     "metadata": {},
     "output_type": "execute_result"
    }
   ],
   "source": [
    "import random\n",
    "\n",
    "random.sample(list(dataset_char_set), 5)"
   ]
  },
  {
   "cell_type": "code",
   "execution_count": 118,
   "id": "8db79b12-b7f7-4888-a0e5-adf1ae530566",
   "metadata": {},
   "outputs": [
    {
     "data": {
      "text/plain": [
       "['록', 'γ', '𝐅', '改', '無']"
      ]
     },
     "execution_count": 118,
     "metadata": {},
     "output_type": "execute_result"
    }
   ],
   "source": [
    "random.sample(list(dataset_char_set), 5)"
   ]
  },
  {
   "cell_type": "code",
   "execution_count": 119,
   "id": "96864340-0352-427b-b655-00474eb5ec06",
   "metadata": {},
   "outputs": [
    {
     "data": {
      "text/plain": [
       "['드', '주', '小', '首', '即']"
      ]
     },
     "execution_count": 119,
     "metadata": {},
     "output_type": "execute_result"
    }
   ],
   "source": [
    "random.sample(list(dataset_char_set), 5)"
   ]
  },
  {
   "cell_type": "code",
   "execution_count": 123,
   "id": "7233a68b-97d1-44ef-8b90-78bc74a16663",
   "metadata": {},
   "outputs": [
    {
     "data": {
      "text/plain": [
       "['🕵', '練', '👺', '🤔', 'ب']"
      ]
     },
     "execution_count": 123,
     "metadata": {},
     "output_type": "execute_result"
    }
   ],
   "source": [
    "random.sample(list(dataset_char_set), 5)"
   ]
  },
  {
   "cell_type": "markdown",
   "id": "a1e4f635-7949-4868-a6b3-5b4b9a51cea7",
   "metadata": {},
   "source": [
    "There a lot of non acsii characters which most often will not provide much value to the application, therefore they can be replaced with `\"\"` empty strings. But there are a few important characters which cannot be removed a ther provide meaningfull gramatical structure to the article such as `\"\\n\", \" \", \"'\", '''\"''', \"-\", \":\", \"(\", \")\" ` etc. Hence apart from these the reamining characters will be removed."
   ]
  },
  {
   "cell_type": "code",
   "execution_count": 128,
   "id": "e8a7c544-14ba-4cd2-bfd6-d7c69fb2876a",
   "metadata": {},
   "outputs": [],
   "source": [
    "remove_chars = dataset_char_set - set([\"\\n\", \" \", \"'\", '''\"''', \"-\", \":\", \"(\", \")\", \"!\", \"@\", \"#\", \"%\"])\n",
    "\n",
    "def processText(text):\n",
    "    for char in remove_chars:\n",
    "        text = text.replace(char, \"\")\n",
    "    return text"
   ]
  },
  {
   "cell_type": "code",
   "execution_count": 131,
   "id": "046be91a-2f55-4bd1-9d21-acda79851a29",
   "metadata": {},
   "outputs": [
    {
     "data": {
      "text/html": [
       "<div>\n",
       "<style scoped>\n",
       "    .dataframe tbody tr th:only-of-type {\n",
       "        vertical-align: middle;\n",
       "    }\n",
       "\n",
       "    .dataframe tbody tr th {\n",
       "        vertical-align: top;\n",
       "    }\n",
       "\n",
       "    .dataframe thead th {\n",
       "        text-align: right;\n",
       "    }\n",
       "</style>\n",
       "<table border=\"1\" class=\"dataframe\">\n",
       "  <thead>\n",
       "    <tr style=\"text-align: right;\">\n",
       "      <th></th>\n",
       "      <th>text</th>\n",
       "      <th>tags</th>\n",
       "      <th>updated_tags</th>\n",
       "      <th>processed_text</th>\n",
       "    </tr>\n",
       "  </thead>\n",
       "  <tbody>\n",
       "    <tr>\n",
       "      <th>0</th>\n",
       "      <td>What is Analytics? Part II: A Longer Definitio...</td>\n",
       "      <td>['Big Data', 'Data Science', 'Analytics']</td>\n",
       "      <td>[Data Science]</td>\n",
       "      <td>What is Analytics Part II: A Longer Definition...</td>\n",
       "    </tr>\n",
       "    <tr>\n",
       "      <th>1</th>\n",
       "      <td>Erica Stanford wrote the book Crypto Wars. She...</td>\n",
       "      <td>['Ethereum', 'Bitcoin', 'Cryptocurrency', 'Sca...</td>\n",
       "      <td>[Cryptocurrency, Bitcoin]</td>\n",
       "      <td>Erica Stanford wrote the book Crypto Wars She ...</td>\n",
       "    </tr>\n",
       "    <tr>\n",
       "      <th>2</th>\n",
       "      <td>I felt the small walls inside my head crumble\\...</td>\n",
       "      <td>['Depression', 'Mental Health', 'Poetry', 'Sui...</td>\n",
       "      <td>[Poetry]</td>\n",
       "      <td>I felt the small walls inside my head crumble\\...</td>\n",
       "    </tr>\n",
       "    <tr>\n",
       "      <th>3</th>\n",
       "      <td>New Website is Live!\\n\\nDear Yokai lovers,\\n\\n...</td>\n",
       "      <td>['Art', 'Token', 'Cryptocurrency', 'Binance Sm...</td>\n",
       "      <td>[Cryptocurrency]</td>\n",
       "      <td>New Website is Live!\\n\\nDear Yokai lovers\\n\\nO...</td>\n",
       "    </tr>\n",
       "    <tr>\n",
       "      <th>4</th>\n",
       "      <td>React vs. Svelte: The War Between Virtual and ...</td>\n",
       "      <td>['Trump', 'Babies', 'Mental Health', 'Life', '...</td>\n",
       "      <td>[Life]</td>\n",
       "      <td>React vs Svelte: The War Between Virtual and R...</td>\n",
       "    </tr>\n",
       "  </tbody>\n",
       "</table>\n",
       "</div>"
      ],
      "text/plain": [
       "                                                text  \\\n",
       "0  What is Analytics? Part II: A Longer Definitio...   \n",
       "1  Erica Stanford wrote the book Crypto Wars. She...   \n",
       "2  I felt the small walls inside my head crumble\\...   \n",
       "3  New Website is Live!\\n\\nDear Yokai lovers,\\n\\n...   \n",
       "4  React vs. Svelte: The War Between Virtual and ...   \n",
       "\n",
       "                                                tags  \\\n",
       "0          ['Big Data', 'Data Science', 'Analytics']   \n",
       "1  ['Ethereum', 'Bitcoin', 'Cryptocurrency', 'Sca...   \n",
       "2  ['Depression', 'Mental Health', 'Poetry', 'Sui...   \n",
       "3  ['Art', 'Token', 'Cryptocurrency', 'Binance Sm...   \n",
       "4  ['Trump', 'Babies', 'Mental Health', 'Life', '...   \n",
       "\n",
       "                updated_tags  \\\n",
       "0             [Data Science]   \n",
       "1  [Cryptocurrency, Bitcoin]   \n",
       "2                   [Poetry]   \n",
       "3           [Cryptocurrency]   \n",
       "4                     [Life]   \n",
       "\n",
       "                                      processed_text  \n",
       "0  What is Analytics Part II: A Longer Definition...  \n",
       "1  Erica Stanford wrote the book Crypto Wars She ...  \n",
       "2  I felt the small walls inside my head crumble\\...  \n",
       "3  New Website is Live!\\n\\nDear Yokai lovers\\n\\nO...  \n",
       "4  React vs Svelte: The War Between Virtual and R...  "
      ]
     },
     "execution_count": 131,
     "metadata": {},
     "output_type": "execute_result"
    }
   ],
   "source": [
    "sample_df[\"processed_text\"] = sample_df[\"text\"].apply(processText)\n",
    "\n",
    "sample_df.head()"
   ]
  },
  {
   "cell_type": "markdown",
   "id": "6ca5053f-1bde-4264-ba83-86bd652706de",
   "metadata": {},
   "source": [
    "Further, `\\n` is used to describe the end of line, but there is no reason to have `\\n\\n` to represent the end of line as often spacing improves readibility, as evident from 4th row in the data. But for classificaation of the article it is not necessary to `\\n\\n`, so it can be replaced with a single `\\n`"
   ]
  },
  {
   "cell_type": "code",
   "execution_count": 132,
   "id": "75698020-600d-4b5e-bc94-a265321837bf",
   "metadata": {},
   "outputs": [
    {
     "data": {
      "text/html": [
       "<div>\n",
       "<style scoped>\n",
       "    .dataframe tbody tr th:only-of-type {\n",
       "        vertical-align: middle;\n",
       "    }\n",
       "\n",
       "    .dataframe tbody tr th {\n",
       "        vertical-align: top;\n",
       "    }\n",
       "\n",
       "    .dataframe thead th {\n",
       "        text-align: right;\n",
       "    }\n",
       "</style>\n",
       "<table border=\"1\" class=\"dataframe\">\n",
       "  <thead>\n",
       "    <tr style=\"text-align: right;\">\n",
       "      <th></th>\n",
       "      <th>text</th>\n",
       "      <th>tags</th>\n",
       "      <th>updated_tags</th>\n",
       "      <th>processed_text</th>\n",
       "    </tr>\n",
       "  </thead>\n",
       "  <tbody>\n",
       "    <tr>\n",
       "      <th>0</th>\n",
       "      <td>What is Analytics? Part II: A Longer Definitio...</td>\n",
       "      <td>['Big Data', 'Data Science', 'Analytics']</td>\n",
       "      <td>[Data Science]</td>\n",
       "      <td>What is Analytics Part II: A Longer Definition...</td>\n",
       "    </tr>\n",
       "    <tr>\n",
       "      <th>1</th>\n",
       "      <td>Erica Stanford wrote the book Crypto Wars. She...</td>\n",
       "      <td>['Ethereum', 'Bitcoin', 'Cryptocurrency', 'Sca...</td>\n",
       "      <td>[Cryptocurrency, Bitcoin]</td>\n",
       "      <td>Erica Stanford wrote the book Crypto Wars She ...</td>\n",
       "    </tr>\n",
       "    <tr>\n",
       "      <th>2</th>\n",
       "      <td>I felt the small walls inside my head crumble\\...</td>\n",
       "      <td>['Depression', 'Mental Health', 'Poetry', 'Sui...</td>\n",
       "      <td>[Poetry]</td>\n",
       "      <td>I felt the small walls inside my head crumble\\...</td>\n",
       "    </tr>\n",
       "    <tr>\n",
       "      <th>3</th>\n",
       "      <td>New Website is Live!\\n\\nDear Yokai lovers,\\n\\n...</td>\n",
       "      <td>['Art', 'Token', 'Cryptocurrency', 'Binance Sm...</td>\n",
       "      <td>[Cryptocurrency]</td>\n",
       "      <td>New Website is Live!\\nDear Yokai lovers\\nOur n...</td>\n",
       "    </tr>\n",
       "    <tr>\n",
       "      <th>4</th>\n",
       "      <td>React vs. Svelte: The War Between Virtual and ...</td>\n",
       "      <td>['Trump', 'Babies', 'Mental Health', 'Life', '...</td>\n",
       "      <td>[Life]</td>\n",
       "      <td>React vs Svelte: The War Between Virtual and R...</td>\n",
       "    </tr>\n",
       "  </tbody>\n",
       "</table>\n",
       "</div>"
      ],
      "text/plain": [
       "                                                text  \\\n",
       "0  What is Analytics? Part II: A Longer Definitio...   \n",
       "1  Erica Stanford wrote the book Crypto Wars. She...   \n",
       "2  I felt the small walls inside my head crumble\\...   \n",
       "3  New Website is Live!\\n\\nDear Yokai lovers,\\n\\n...   \n",
       "4  React vs. Svelte: The War Between Virtual and ...   \n",
       "\n",
       "                                                tags  \\\n",
       "0          ['Big Data', 'Data Science', 'Analytics']   \n",
       "1  ['Ethereum', 'Bitcoin', 'Cryptocurrency', 'Sca...   \n",
       "2  ['Depression', 'Mental Health', 'Poetry', 'Sui...   \n",
       "3  ['Art', 'Token', 'Cryptocurrency', 'Binance Sm...   \n",
       "4  ['Trump', 'Babies', 'Mental Health', 'Life', '...   \n",
       "\n",
       "                updated_tags  \\\n",
       "0             [Data Science]   \n",
       "1  [Cryptocurrency, Bitcoin]   \n",
       "2                   [Poetry]   \n",
       "3           [Cryptocurrency]   \n",
       "4                     [Life]   \n",
       "\n",
       "                                      processed_text  \n",
       "0  What is Analytics Part II: A Longer Definition...  \n",
       "1  Erica Stanford wrote the book Crypto Wars She ...  \n",
       "2  I felt the small walls inside my head crumble\\...  \n",
       "3  New Website is Live!\\nDear Yokai lovers\\nOur n...  \n",
       "4  React vs Svelte: The War Between Virtual and R...  "
      ]
     },
     "execution_count": 132,
     "metadata": {},
     "output_type": "execute_result"
    }
   ],
   "source": [
    "sample_df[\"processed_text\"] = sample_df[\"processed_text\"].apply(lambda x: x.replace(\"\\n\\n\", \"\\n\"))\n",
    "\n",
    "sample_df.head()"
   ]
  },
  {
   "cell_type": "markdown",
   "id": "117af90c-691f-4004-9fee-6449073fda50",
   "metadata": {},
   "source": [
    "Futher links are also part of the article text, and they provide no usefull information for the classification application, so they they can aso be removed. But due to their sophisticated nature, they have to be removed using regular expressions."
   ]
  },
  {
   "cell_type": "code",
   "execution_count": 137,
   "id": "5bdeabfc-99b9-494d-8190-00c35e9eb52d",
   "metadata": {},
   "outputs": [],
   "source": [
    "import re\n",
    "\n",
    "pattern = r'https?://(?:www\\.)?\\S+'\n",
    "\n",
    "def removeLinks(text):\n",
    "    text = re.sub(pattern, '', text)\n",
    "    return text"
   ]
  },
  {
   "cell_type": "code",
   "execution_count": 138,
   "id": "ed8b1c25-2b21-4852-bdb0-5436affc1724",
   "metadata": {},
   "outputs": [
    {
     "data": {
      "text/html": [
       "<div>\n",
       "<style scoped>\n",
       "    .dataframe tbody tr th:only-of-type {\n",
       "        vertical-align: middle;\n",
       "    }\n",
       "\n",
       "    .dataframe tbody tr th {\n",
       "        vertical-align: top;\n",
       "    }\n",
       "\n",
       "    .dataframe thead th {\n",
       "        text-align: right;\n",
       "    }\n",
       "</style>\n",
       "<table border=\"1\" class=\"dataframe\">\n",
       "  <thead>\n",
       "    <tr style=\"text-align: right;\">\n",
       "      <th></th>\n",
       "      <th>text</th>\n",
       "      <th>tags</th>\n",
       "      <th>updated_tags</th>\n",
       "      <th>processed_text</th>\n",
       "    </tr>\n",
       "  </thead>\n",
       "  <tbody>\n",
       "    <tr>\n",
       "      <th>0</th>\n",
       "      <td>What is Analytics? Part II: A Longer Definitio...</td>\n",
       "      <td>['Big Data', 'Data Science', 'Analytics']</td>\n",
       "      <td>[Data Science]</td>\n",
       "      <td>What is Analytics Part II: A Longer Definition...</td>\n",
       "    </tr>\n",
       "    <tr>\n",
       "      <th>1</th>\n",
       "      <td>Erica Stanford wrote the book Crypto Wars. She...</td>\n",
       "      <td>['Ethereum', 'Bitcoin', 'Cryptocurrency', 'Sca...</td>\n",
       "      <td>[Cryptocurrency, Bitcoin]</td>\n",
       "      <td>Erica Stanford wrote the book Crypto Wars She ...</td>\n",
       "    </tr>\n",
       "    <tr>\n",
       "      <th>2</th>\n",
       "      <td>I felt the small walls inside my head crumble\\...</td>\n",
       "      <td>['Depression', 'Mental Health', 'Poetry', 'Sui...</td>\n",
       "      <td>[Poetry]</td>\n",
       "      <td>I felt the small walls inside my head crumble\\...</td>\n",
       "    </tr>\n",
       "    <tr>\n",
       "      <th>3</th>\n",
       "      <td>New Website is Live!\\n\\nDear Yokai lovers,\\n\\n...</td>\n",
       "      <td>['Art', 'Token', 'Cryptocurrency', 'Binance Sm...</td>\n",
       "      <td>[Cryptocurrency]</td>\n",
       "      <td>New Website is Live!\\nDear Yokai lovers\\nOur n...</td>\n",
       "    </tr>\n",
       "    <tr>\n",
       "      <th>4</th>\n",
       "      <td>React vs. Svelte: The War Between Virtual and ...</td>\n",
       "      <td>['Trump', 'Babies', 'Mental Health', 'Life', '...</td>\n",
       "      <td>[Life]</td>\n",
       "      <td>React vs Svelte: The War Between Virtual and R...</td>\n",
       "    </tr>\n",
       "  </tbody>\n",
       "</table>\n",
       "</div>"
      ],
      "text/plain": [
       "                                                text  \\\n",
       "0  What is Analytics? Part II: A Longer Definitio...   \n",
       "1  Erica Stanford wrote the book Crypto Wars. She...   \n",
       "2  I felt the small walls inside my head crumble\\...   \n",
       "3  New Website is Live!\\n\\nDear Yokai lovers,\\n\\n...   \n",
       "4  React vs. Svelte: The War Between Virtual and ...   \n",
       "\n",
       "                                                tags  \\\n",
       "0          ['Big Data', 'Data Science', 'Analytics']   \n",
       "1  ['Ethereum', 'Bitcoin', 'Cryptocurrency', 'Sca...   \n",
       "2  ['Depression', 'Mental Health', 'Poetry', 'Sui...   \n",
       "3  ['Art', 'Token', 'Cryptocurrency', 'Binance Sm...   \n",
       "4  ['Trump', 'Babies', 'Mental Health', 'Life', '...   \n",
       "\n",
       "                updated_tags  \\\n",
       "0             [Data Science]   \n",
       "1  [Cryptocurrency, Bitcoin]   \n",
       "2                   [Poetry]   \n",
       "3           [Cryptocurrency]   \n",
       "4                     [Life]   \n",
       "\n",
       "                                      processed_text  \n",
       "0  What is Analytics Part II: A Longer Definition...  \n",
       "1  Erica Stanford wrote the book Crypto Wars She ...  \n",
       "2  I felt the small walls inside my head crumble\\...  \n",
       "3  New Website is Live!\\nDear Yokai lovers\\nOur n...  \n",
       "4  React vs Svelte: The War Between Virtual and R...  "
      ]
     },
     "execution_count": 138,
     "metadata": {},
     "output_type": "execute_result"
    }
   ],
   "source": [
    "sample_df[\"processed_text\"] = sample_df[\"processed_text\"].apply(removeLinks)\n",
    "sample_df.head()"
   ]
  },
  {
   "cell_type": "code",
   "execution_count": 139,
   "id": "965ddcc8-6518-4b06-963c-b4d843532c0a",
   "metadata": {},
   "outputs": [
    {
     "data": {
      "text/html": [
       "<div>\n",
       "<style scoped>\n",
       "    .dataframe tbody tr th:only-of-type {\n",
       "        vertical-align: middle;\n",
       "    }\n",
       "\n",
       "    .dataframe tbody tr th {\n",
       "        vertical-align: top;\n",
       "    }\n",
       "\n",
       "    .dataframe thead th {\n",
       "        text-align: right;\n",
       "    }\n",
       "</style>\n",
       "<table border=\"1\" class=\"dataframe\">\n",
       "  <thead>\n",
       "    <tr style=\"text-align: right;\">\n",
       "      <th></th>\n",
       "      <th>processed_text</th>\n",
       "      <th>updated_tags</th>\n",
       "    </tr>\n",
       "  </thead>\n",
       "  <tbody>\n",
       "    <tr>\n",
       "      <th>0</th>\n",
       "      <td>What is Analytics Part II: A Longer Definition...</td>\n",
       "      <td>[Data Science]</td>\n",
       "    </tr>\n",
       "    <tr>\n",
       "      <th>1</th>\n",
       "      <td>Erica Stanford wrote the book Crypto Wars She ...</td>\n",
       "      <td>[Cryptocurrency, Bitcoin]</td>\n",
       "    </tr>\n",
       "    <tr>\n",
       "      <th>2</th>\n",
       "      <td>I felt the small walls inside my head crumble\\...</td>\n",
       "      <td>[Poetry]</td>\n",
       "    </tr>\n",
       "    <tr>\n",
       "      <th>3</th>\n",
       "      <td>New Website is Live!\\nDear Yokai lovers\\nOur n...</td>\n",
       "      <td>[Cryptocurrency]</td>\n",
       "    </tr>\n",
       "    <tr>\n",
       "      <th>4</th>\n",
       "      <td>React vs Svelte: The War Between Virtual and R...</td>\n",
       "      <td>[Life]</td>\n",
       "    </tr>\n",
       "  </tbody>\n",
       "</table>\n",
       "</div>"
      ],
      "text/plain": [
       "                                      processed_text  \\\n",
       "0  What is Analytics Part II: A Longer Definition...   \n",
       "1  Erica Stanford wrote the book Crypto Wars She ...   \n",
       "2  I felt the small walls inside my head crumble\\...   \n",
       "3  New Website is Live!\\nDear Yokai lovers\\nOur n...   \n",
       "4  React vs Svelte: The War Between Virtual and R...   \n",
       "\n",
       "                updated_tags  \n",
       "0             [Data Science]  \n",
       "1  [Cryptocurrency, Bitcoin]  \n",
       "2                   [Poetry]  \n",
       "3           [Cryptocurrency]  \n",
       "4                     [Life]  "
      ]
     },
     "execution_count": 139,
     "metadata": {},
     "output_type": "execute_result"
    }
   ],
   "source": [
    "final_cols = [\"processed_text\", \"updated_tags\"]\n",
    "\n",
    "final_df = sample_df[final_cols]\n",
    "final_df.head()"
   ]
  },
  {
   "cell_type": "code",
   "execution_count": 140,
   "id": "0e475c4b-998a-40c6-83b2-455b5e44e6fc",
   "metadata": {},
   "outputs": [],
   "source": [
    "final_df.to_csv(\"./data/processed-data.csv\", index=False)"
   ]
  }
 ],
 "metadata": {
  "kernelspec": {
   "display_name": "info-i501-project",
   "language": "python",
   "name": "info-i501-project"
  },
  "language_info": {
   "codemirror_mode": {
    "name": "ipython",
    "version": 3
   },
   "file_extension": ".py",
   "mimetype": "text/x-python",
   "name": "python",
   "nbconvert_exporter": "python",
   "pygments_lexer": "ipython3",
   "version": "3.11.5"
  }
 },
 "nbformat": 4,
 "nbformat_minor": 5
}
